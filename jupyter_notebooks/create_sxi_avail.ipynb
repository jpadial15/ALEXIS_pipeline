{
 "cells": [
  {
   "cell_type": "code",
   "execution_count": 16,
   "metadata": {},
   "outputs": [],
   "source": [
    "\n",
    "import sys \n",
    "import os \n",
    "sys.path.insert(1, '..')\n",
    "sys.path.insert(2, '../modules/')\n",
    "import drms\n",
    "from ruffus import *\n",
    "import re\n",
    "import pickle\n",
    "import warnings\n",
    "# from create_sxi_availability_db import WORKING_DIR\n",
    "warnings.filterwarnings(\"ignore\")\n",
    "from modules import convert_datetime\n",
    "from modules import query_the_data\n",
    "import dataconfig\n",
    "from modules import sxi_module\n",
    "from modules import helio_reg_exp_module\n",
    "from time import sleep\n",
    "from random import randint\n",
    "import sqlalchemy as sa\n",
    "import pandas as pd\n",
    "from datetime import timedelta, date\n",
    "\n",
    "from bs4 import BeautifulSoup\n",
    "from requests import get"
   ]
  },
  {
   "cell_type": "code",
   "execution_count": 17,
   "metadata": {},
   "outputs": [],
   "source": [
    "WORKING_DIR = dataconfig.DATA_DIR_GOES_SXI\n",
    "DATA_PRODUCT_DIR = dataconfig.DATA_DIR_PRODUCTS"
   ]
  },
  {
   "cell_type": "code",
   "execution_count": 18,
   "metadata": {},
   "outputs": [],
   "source": [
    "\n",
    "# some dictionaries we'll use sometimes\n",
    "\n",
    "instruments = ['goes13', 'goes14', 'goes15']\n",
    "\n",
    "inst_dict = {'goes13': 'g13', 'goes14': 'g14', 'goes15': 'g15'}"
   ]
  },
  {
   "cell_type": "code",
   "execution_count": 19,
   "metadata": {},
   "outputs": [],
   "source": [
    "\n",
    "#Set timelimits you want to download from\n",
    "\n",
    "start_download_from = '2010-05-01T00:00:00'\n",
    "end_download_at = '2010-05-02T00:00:00'\n",
    "\n",
    "START_DATE_TIME = pd.Timestamp(start_download_from, tz = 'utc')\n",
    "\n",
    "END_DATE_TIME = pd.Timestamp(end_download_at, tz = 'utc')\n"
   ]
  },
  {
   "cell_type": "code",
   "execution_count": 20,
   "metadata": {},
   "outputs": [],
   "source": [
    "def daterange(date1, date2):\n",
    "    for n in range(int ((date2 - date1).days)+1):\n",
    "        yield date1 + timedelta(n)"
   ]
  },
  {
   "cell_type": "code",
   "execution_count": 21,
   "metadata": {},
   "outputs": [
    {
     "data": {
      "text/plain": [
       "[Timestamp('2010-05-01 00:00:00+0000', tz='UTC'),\n",
       " Timestamp('2010-05-02 00:00:00+0000', tz='UTC')]"
      ]
     },
     "execution_count": 21,
     "metadata": {},
     "output_type": "execute_result"
    }
   ],
   "source": [
    "all_dates_list = []\n",
    "\n",
    "for dt in daterange(START_DATE_TIME, END_DATE_TIME):\n",
    "    # all_dates_list.append(dt.strftime(\"%Y%m%d\"))\n",
    "    all_dates_list.append(dt)\n",
    "\n",
    "all_dates_list"
   ]
  },
  {
   "cell_type": "code",
   "execution_count": 22,
   "metadata": {},
   "outputs": [],
   "source": [
    "headers = {'User-Agent': 'Mozilla/5.0 (Macintosh; Intel Mac OS X 10_11_6) AppleWebKit/537.36 (KHTML, like Gecko) Chrome/61.0.3163.100 Safari/537.36'}\n"
   ]
  },
  {
   "cell_type": "code",
   "execution_count": 27,
   "metadata": {},
   "outputs": [],
   "source": [
    "tw = lambda x: os.path.join(WORKING_DIR, x)\n",
    "# Where from noaa FTP portal are you downloading from?\n",
    "\n",
    "# ftp_prename = 'ftp://satdat.ngdc.noaa.gov/sxi/archive/fits'\n",
    "http_prename = 'https://www.ncei.noaa.gov/data/goes-solar-xray-imager/access/fits'\n",
    "\n",
    "# NOTE: we are interested in the ftp file that resembles:\n",
    "#  ftp://satdat.ngdc.noaa.gov/sxi/archive/fits/goesXX/YYYY/MM/DD/*BA*.FTS\n",
    "\n",
    "ftp_name_dict = []\n",
    "\n",
    "for full_instrument_name in instruments:\n",
    "\n",
    "    for this_date in all_dates_list:\n",
    "\n",
    "        year, month, day = this_date.strftime('%Y'), this_date.strftime('%m'), this_date.strftime('%d')\n",
    "\n",
    "        # specific_file_name = 'sci_gxrs-l2-irrad_{}_d{}_v0-0-0.nc'.format(inst_dict[full_instrument_name], specific_date_str)\n",
    "\n",
    "        ftp_name = f'{http_prename}/{full_instrument_name}/{year}/{month}/{day}'\n",
    "\n",
    "        http_name = f'{http_prename}/{full_instrument_name}/{year}/{month}/{day}'\n",
    "\n",
    "        outfile_str = tw(f'{year}-{month}-{day}_{full_instrument_name}')\n",
    "\n",
    "        ftp_name_dict.append({'availability_file': http_name , 'out_name': outfile_str })\n",
    "\n"
   ]
  },
  {
   "cell_type": "code",
   "execution_count": 28,
   "metadata": {},
   "outputs": [
    {
     "data": {
      "text/plain": [
       "[{'availability_file': 'https://www.ncei.noaa.gov/data/goes-solar-xray-imager/access/fits/goes13/2010/05/01',\n",
       "  'out_name': '/mnt/e/ALEXIS_data/sxi_availability/2010-05-01_goes13'},\n",
       " {'availability_file': 'https://www.ncei.noaa.gov/data/goes-solar-xray-imager/access/fits/goes13/2010/05/02',\n",
       "  'out_name': '/mnt/e/ALEXIS_data/sxi_availability/2010-05-02_goes13'},\n",
       " {'availability_file': 'https://www.ncei.noaa.gov/data/goes-solar-xray-imager/access/fits/goes14/2010/05/01',\n",
       "  'out_name': '/mnt/e/ALEXIS_data/sxi_availability/2010-05-01_goes14'},\n",
       " {'availability_file': 'https://www.ncei.noaa.gov/data/goes-solar-xray-imager/access/fits/goes14/2010/05/02',\n",
       "  'out_name': '/mnt/e/ALEXIS_data/sxi_availability/2010-05-02_goes14'},\n",
       " {'availability_file': 'https://www.ncei.noaa.gov/data/goes-solar-xray-imager/access/fits/goes15/2010/05/01',\n",
       "  'out_name': '/mnt/e/ALEXIS_data/sxi_availability/2010-05-01_goes15'},\n",
       " {'availability_file': 'https://www.ncei.noaa.gov/data/goes-solar-xray-imager/access/fits/goes15/2010/05/02',\n",
       "  'out_name': '/mnt/e/ALEXIS_data/sxi_availability/2010-05-02_goes15'}]"
      ]
     },
     "execution_count": 28,
     "metadata": {},
     "output_type": "execute_result"
    }
   ],
   "source": [
    "ftp_name_dict"
   ]
  },
  {
   "cell_type": "code",
   "execution_count": null,
   "metadata": {},
   "outputs": [
    {
     "name": "stdout",
     "output_type": "stream",
     "text": [
      "no data for https://www.ncei.noaa.gov/data/goes-solar-xray-imager/access/fits/goes13/2010/05/01\n",
      "no data for https://www.ncei.noaa.gov/data/goes-solar-xray-imager/access/fits/goes13/2010/05/02\n",
      "no data for https://www.ncei.noaa.gov/data/goes-solar-xray-imager/access/fits/goes15/2010/05/01\n",
      "no data for https://www.ncei.noaa.gov/data/goes-solar-xray-imager/access/fits/goes15/2010/05/02\n"
     ]
    }
   ],
   "source": [
    "output_df = []\n",
    "for this_dict in ftp_name_dict:\n",
    "\n",
    "    # print('start')\n",
    "\n",
    "    # print(this_dict)\n",
    "\n",
    "    \"\"\" Ask for a webresponse and parse throught the available links \"\"\"\n",
    "\n",
    "    headers = {'User-Agent': 'Mozilla/5.0 (Macintosh; Intel Mac OS X 10_11_6) AppleWebKit/537.36 (KHTML, like Gecko) Chrome/61.0.3163.100 Safari/537.36'}\n",
    "\n",
    "    queries = this_dict\n",
    "\n",
    "    http_query_name = queries['availability_file']\n",
    "\n",
    "    response = get(http_query_name, headers = headers)\n",
    "    # print(f'{response.status_code} for {http_query_name}')\n",
    "\n",
    "    # Pause the loop\n",
    "    # sleep(randint(4,37))\n",
    "\n",
    "        # ADD LONG SLEEP AFTER 429 AND ALSO \n",
    "        # RE-TRY LOOP FOR 429 ==> MAYBE\n",
    "\n",
    "        # Throw a warning for non-200 status codes\n",
    "    if response.status_code == 429:\n",
    "\n",
    "        print('{} w/ Status code: {}'.format(http_query_name, response.status_code))\n",
    "        print(BeautifulSoup(response.content, 'html.parser'))\n",
    "        # break\n",
    "\n",
    "    if response.status_code == 200:\n",
    "        html_soup = BeautifulSoup(response.content, 'html.parser')\n",
    "\n",
    "        sxi_links = []\n",
    "\n",
    "        for link in html_soup.find_all('a'):\n",
    "\n",
    "            file_name = str(link.get('href'))\n",
    "\n",
    "            if file_name.startswith('SXI'):\n",
    "\n",
    "                level= re.findall(r'(?<=\\d{9}_)[A-Za-z0-9]{2}', file_name)[0]\n",
    "\n",
    "                inst = re.findall(r'(?<=\\d{9}_[A-Za-z0-9]{2}_)\\d{2}', file_name)[0]\n",
    "\n",
    "                date_time_str = re.findall(r'\\d{8}_\\d{9}', file_name )[0]\n",
    "\n",
    "                date_time_obj = pd.to_datetime(date_time_str, format = '%Y%m%d_%H%M%S%f', utc = True)\n",
    "\n",
    "                time_stamp = convert_datetime.convert_datetime_to_timestamp(date_time_obj)\n",
    "\n",
    "                year, month, day = date_time_obj.strftime('%Y'), date_time_obj.strftime('%m'), date_time_obj.strftime('%d')\n",
    "\n",
    "                full_instrument_name = f'goes{inst}'\n",
    "\n",
    "                # ftp_prename = 'ftp://satdat.ngdc.noaa.gov/sxi/archive/fits'\n",
    "\n",
    "                http_query_name = f'{http_prename}/{full_instrument_name}/{year}/{month}/{day}/{file_name}'\n",
    "\n",
    "                download_str = f'wget -e robots=off --recursive --no-parent globs = True --directory-prefix {WORKING_DIR} --no-directories --verbose False {http_query_name}'\n",
    "\n",
    "                sxi_links.append({'url': http_query_name, 'download_string': download_str, 'time_stamp': time_stamp, 'data_level': level, 'file_name': file_name, 'instrument': full_instrument_name})\n",
    "\n",
    "        available_data_df = pd.DataFrame(sxi_links)\n",
    "\n",
    "        output_df.append(available_data_df)\n",
    "\n",
    "\n",
    "        # print(available_data_df)\n",
    "\n",
    "        # pickle.dump(available_data_df, open(outfile, 'wb'))\n",
    "\n",
    "        # print('------------------------------')\n",
    "    \n",
    "    if response.status_code == 404:\n",
    "        no_data = pd.DataFrame()\n",
    "        print(f'no data for {http_query_name}')\n",
    "\n",
    "        # pickle.dump(no_data, open(outfile, 'wb'))"
   ]
  },
  {
   "cell_type": "code",
   "execution_count": 37,
   "metadata": {},
   "outputs": [
    {
     "data": {
      "text/html": [
       "<div>\n",
       "<style scoped>\n",
       "    .dataframe tbody tr th:only-of-type {\n",
       "        vertical-align: middle;\n",
       "    }\n",
       "\n",
       "    .dataframe tbody tr th {\n",
       "        vertical-align: top;\n",
       "    }\n",
       "\n",
       "    .dataframe thead th {\n",
       "        text-align: right;\n",
       "    }\n",
       "</style>\n",
       "<table border=\"1\" class=\"dataframe\">\n",
       "  <thead>\n",
       "    <tr style=\"text-align: right;\">\n",
       "      <th></th>\n",
       "      <th>url</th>\n",
       "      <th>download_string</th>\n",
       "      <th>time_stamp</th>\n",
       "      <th>data_level</th>\n",
       "      <th>file_name</th>\n",
       "      <th>instrument</th>\n",
       "    </tr>\n",
       "  </thead>\n",
       "  <tbody>\n",
       "    <tr>\n",
       "      <th>0</th>\n",
       "      <td>https://www.ncei.noaa.gov/data/goes-solar-xray...</td>\n",
       "      <td>wget -e robots=off --recursive --no-parent glo...</td>\n",
       "      <td>1.272672e+09</td>\n",
       "      <td>AA</td>\n",
       "      <td>SXI_20100501_000015157_AA_14.FTS</td>\n",
       "      <td>goes14</td>\n",
       "    </tr>\n",
       "    <tr>\n",
       "      <th>1</th>\n",
       "      <td>https://www.ncei.noaa.gov/data/goes-solar-xray...</td>\n",
       "      <td>wget -e robots=off --recursive --no-parent glo...</td>\n",
       "      <td>1.272672e+09</td>\n",
       "      <td>AA</td>\n",
       "      <td>SXI_20100501_000115163_AA_14.FTS</td>\n",
       "      <td>goes14</td>\n",
       "    </tr>\n",
       "    <tr>\n",
       "      <th>2</th>\n",
       "      <td>https://www.ncei.noaa.gov/data/goes-solar-xray...</td>\n",
       "      <td>wget -e robots=off --recursive --no-parent glo...</td>\n",
       "      <td>1.272672e+09</td>\n",
       "      <td>AA</td>\n",
       "      <td>SXI_20100501_000215144_AA_14.FTS</td>\n",
       "      <td>goes14</td>\n",
       "    </tr>\n",
       "    <tr>\n",
       "      <th>3</th>\n",
       "      <td>https://www.ncei.noaa.gov/data/goes-solar-xray...</td>\n",
       "      <td>wget -e robots=off --recursive --no-parent glo...</td>\n",
       "      <td>1.272672e+09</td>\n",
       "      <td>AA</td>\n",
       "      <td>SXI_20100501_000315165_AA_14.FTS</td>\n",
       "      <td>goes14</td>\n",
       "    </tr>\n",
       "    <tr>\n",
       "      <th>4</th>\n",
       "      <td>https://www.ncei.noaa.gov/data/goes-solar-xray...</td>\n",
       "      <td>wget -e robots=off --recursive --no-parent glo...</td>\n",
       "      <td>1.272672e+09</td>\n",
       "      <td>AA</td>\n",
       "      <td>SXI_20100501_000400165_AA_14.FTS</td>\n",
       "      <td>goes14</td>\n",
       "    </tr>\n",
       "    <tr>\n",
       "      <th>...</th>\n",
       "      <td>...</td>\n",
       "      <td>...</td>\n",
       "      <td>...</td>\n",
       "      <td>...</td>\n",
       "      <td>...</td>\n",
       "      <td>...</td>\n",
       "    </tr>\n",
       "    <tr>\n",
       "      <th>1795</th>\n",
       "      <td>https://www.ncei.noaa.gov/data/goes-solar-xray...</td>\n",
       "      <td>wget -e robots=off --recursive --no-parent glo...</td>\n",
       "      <td>1.272845e+09</td>\n",
       "      <td>AA</td>\n",
       "      <td>SXI_20100502_235615146_AA_14.FTS</td>\n",
       "      <td>goes14</td>\n",
       "    </tr>\n",
       "    <tr>\n",
       "      <th>1796</th>\n",
       "      <td>https://www.ncei.noaa.gov/data/goes-solar-xray...</td>\n",
       "      <td>wget -e robots=off --recursive --no-parent glo...</td>\n",
       "      <td>1.272845e+09</td>\n",
       "      <td>AA</td>\n",
       "      <td>SXI_20100502_235700154_AA_14.FTS</td>\n",
       "      <td>goes14</td>\n",
       "    </tr>\n",
       "    <tr>\n",
       "      <th>1797</th>\n",
       "      <td>https://www.ncei.noaa.gov/data/goes-solar-xray...</td>\n",
       "      <td>wget -e robots=off --recursive --no-parent glo...</td>\n",
       "      <td>1.272845e+09</td>\n",
       "      <td>AA</td>\n",
       "      <td>SXI_20100502_235715148_AA_14.FTS</td>\n",
       "      <td>goes14</td>\n",
       "    </tr>\n",
       "    <tr>\n",
       "      <th>1798</th>\n",
       "      <td>https://www.ncei.noaa.gov/data/goes-solar-xray...</td>\n",
       "      <td>wget -e robots=off --recursive --no-parent glo...</td>\n",
       "      <td>1.272845e+09</td>\n",
       "      <td>AA</td>\n",
       "      <td>SXI_20100502_235815138_AA_14.FTS</td>\n",
       "      <td>goes14</td>\n",
       "    </tr>\n",
       "    <tr>\n",
       "      <th>1799</th>\n",
       "      <td>https://www.ncei.noaa.gov/data/goes-solar-xray...</td>\n",
       "      <td>wget -e robots=off --recursive --no-parent glo...</td>\n",
       "      <td>1.272845e+09</td>\n",
       "      <td>AA</td>\n",
       "      <td>SXI_20100502_235915165_AA_14.FTS</td>\n",
       "      <td>goes14</td>\n",
       "    </tr>\n",
       "  </tbody>\n",
       "</table>\n",
       "<p>3600 rows × 6 columns</p>\n",
       "</div>"
      ],
      "text/plain": [
       "                                                    url  \\\n",
       "0     https://www.ncei.noaa.gov/data/goes-solar-xray...   \n",
       "1     https://www.ncei.noaa.gov/data/goes-solar-xray...   \n",
       "2     https://www.ncei.noaa.gov/data/goes-solar-xray...   \n",
       "3     https://www.ncei.noaa.gov/data/goes-solar-xray...   \n",
       "4     https://www.ncei.noaa.gov/data/goes-solar-xray...   \n",
       "...                                                 ...   \n",
       "1795  https://www.ncei.noaa.gov/data/goes-solar-xray...   \n",
       "1796  https://www.ncei.noaa.gov/data/goes-solar-xray...   \n",
       "1797  https://www.ncei.noaa.gov/data/goes-solar-xray...   \n",
       "1798  https://www.ncei.noaa.gov/data/goes-solar-xray...   \n",
       "1799  https://www.ncei.noaa.gov/data/goes-solar-xray...   \n",
       "\n",
       "                                        download_string    time_stamp  \\\n",
       "0     wget -e robots=off --recursive --no-parent glo...  1.272672e+09   \n",
       "1     wget -e robots=off --recursive --no-parent glo...  1.272672e+09   \n",
       "2     wget -e robots=off --recursive --no-parent glo...  1.272672e+09   \n",
       "3     wget -e robots=off --recursive --no-parent glo...  1.272672e+09   \n",
       "4     wget -e robots=off --recursive --no-parent glo...  1.272672e+09   \n",
       "...                                                 ...           ...   \n",
       "1795  wget -e robots=off --recursive --no-parent glo...  1.272845e+09   \n",
       "1796  wget -e robots=off --recursive --no-parent glo...  1.272845e+09   \n",
       "1797  wget -e robots=off --recursive --no-parent glo...  1.272845e+09   \n",
       "1798  wget -e robots=off --recursive --no-parent glo...  1.272845e+09   \n",
       "1799  wget -e robots=off --recursive --no-parent glo...  1.272845e+09   \n",
       "\n",
       "     data_level                         file_name instrument  \n",
       "0            AA  SXI_20100501_000015157_AA_14.FTS     goes14  \n",
       "1            AA  SXI_20100501_000115163_AA_14.FTS     goes14  \n",
       "2            AA  SXI_20100501_000215144_AA_14.FTS     goes14  \n",
       "3            AA  SXI_20100501_000315165_AA_14.FTS     goes14  \n",
       "4            AA  SXI_20100501_000400165_AA_14.FTS     goes14  \n",
       "...         ...                               ...        ...  \n",
       "1795         AA  SXI_20100502_235615146_AA_14.FTS     goes14  \n",
       "1796         AA  SXI_20100502_235700154_AA_14.FTS     goes14  \n",
       "1797         AA  SXI_20100502_235715148_AA_14.FTS     goes14  \n",
       "1798         AA  SXI_20100502_235815138_AA_14.FTS     goes14  \n",
       "1799         AA  SXI_20100502_235915165_AA_14.FTS     goes14  \n",
       "\n",
       "[3600 rows x 6 columns]"
      ]
     },
     "execution_count": 37,
     "metadata": {},
     "output_type": "execute_result"
    }
   ],
   "source": [
    "this_df = pd.concat(output_df)\n",
    "this_df"
   ]
  },
  {
   "cell_type": "code",
   "execution_count": 38,
   "metadata": {},
   "outputs": [
    {
     "data": {
      "text/plain": [
       "'wget -e robots=off --recursive --no-parent globs = True --directory-prefix /mnt/e/ALEXIS_data/sxi_availability --no-directories --verbose False https://www.ncei.noaa.gov/data/goes-solar-xray-imager/access/fits/goes14/2010/05/01/SXI_20100501_000015157_AA_14.FTS'"
      ]
     },
     "execution_count": 38,
     "metadata": {},
     "output_type": "execute_result"
    }
   ],
   "source": [
    "this_df.iloc[0].download_string"
   ]
  },
  {
   "cell_type": "code",
   "execution_count": 39,
   "metadata": {},
   "outputs": [
    {
     "data": {
      "text/plain": [
       "1024"
      ]
     },
     "execution_count": 39,
     "metadata": {},
     "output_type": "execute_result"
    }
   ],
   "source": [
    "os.system(this_df.iloc[0].download_string)"
   ]
  },
  {
   "cell_type": "code",
   "execution_count": 41,
   "metadata": {},
   "outputs": [
    {
     "data": {
      "text/plain": [
       "True"
      ]
     },
     "execution_count": 41,
     "metadata": {},
     "output_type": "execute_result"
    }
   ],
   "source": [
    "os.path.exists(f'{WORKING_DIR}/{this_df.iloc[0].file_name}')"
   ]
  },
  {
   "cell_type": "code",
   "execution_count": null,
   "metadata": {},
   "outputs": [],
   "source": [
    "# code above works and below is exploratory"
   ]
  },
  {
   "cell_type": "code",
   "execution_count": 13,
   "metadata": {},
   "outputs": [],
   "source": [
    "test_https_pre = 'https://www.ncei.noaa.gov/data/goes-solar-xray-imager/access/fits/goes13/2015/07/07'"
   ]
  },
  {
   "cell_type": "code",
   "execution_count": 14,
   "metadata": {},
   "outputs": [
    {
     "data": {
      "text/plain": [
       "'https://www.ncei.noaa.gov/data/goes-solar-xray-imager/access/fits/goes13/2015/07/07/SXI_20150707_000015167_BA_13.FTS'"
      ]
     },
     "execution_count": 14,
     "metadata": {},
     "output_type": "execute_result"
    }
   ],
   "source": [
    "test_https_link = f'{test_https_pre}/SXI_20150707_000015167_BA_13.FTS'\n",
    "test_https_link"
   ]
  },
  {
   "cell_type": "code",
   "execution_count": 15,
   "metadata": {},
   "outputs": [
    {
     "data": {
      "text/plain": [
       "200"
      ]
     },
     "execution_count": 15,
     "metadata": {},
     "output_type": "execute_result"
    }
   ],
   "source": [
    "response = get(test_https_link, headers = headers)\n",
    "response.status_code"
   ]
  },
  {
   "cell_type": "code",
   "execution_count": 5,
   "metadata": {},
   "outputs": [],
   "source": [
    "download_str = f'wget -e robots=off --recursive --no-parent globs = True --directory-prefix {WORKING_DIR} --no-directories --verbose False {test_https_link}'\n"
   ]
  },
  {
   "cell_type": "code",
   "execution_count": 6,
   "metadata": {},
   "outputs": [
    {
     "data": {
      "text/plain": [
       "'wget -e robots=off --recursive --no-parent globs = True --directory-prefix /mnt/e/ALEXIS_data/sxi_availability --no-directories --verbose False https://ftp.ngdc.noaa.gov/data/goes-solar-xray-imager/access/fits/goes13/2015/07/07/SXI_20150707_000015167_BA_13.FTS'"
      ]
     },
     "execution_count": 6,
     "metadata": {},
     "output_type": "execute_result"
    }
   ],
   "source": [
    "download_str"
   ]
  },
  {
   "cell_type": "code",
   "execution_count": null,
   "metadata": {},
   "outputs": [],
   "source": [
    "os.system(download_str)"
   ]
  },
  {
   "cell_type": "code",
   "execution_count": 9,
   "metadata": {},
   "outputs": [],
   "source": [
    "ftp_prename = 'ftp://satdat.ngdc.noaa.gov/sxi/archive/fits'\n",
    "\n",
    "full_instrument_name='goes13'\n",
    "year='2015'\n",
    "month='07'\n",
    "day='07'\n",
    "\n",
    "file_name = 'SXI_20150707_000015167_BA_13.FTS'\n",
    "\n",
    "ftp_query_name = f'{ftp_prename}/{full_instrument_name}/{year}/{month}/{day}/{file_name}'\n",
    "\n",
    "download_str = f'wget -e robots=off --recursive --no-parent globs = True --directory-prefix {WORKING_DIR} --no-directories --verbose False {ftp_query_name}'"
   ]
  },
  {
   "cell_type": "code",
   "execution_count": 10,
   "metadata": {},
   "outputs": [
    {
     "data": {
      "text/plain": [
       "'wget -e robots=off --recursive --no-parent globs = True --directory-prefix /mnt/e/ALEXIS_data/sxi_availability --no-directories --verbose False ftp://satdat.ngdc.noaa.gov/sxi/archive/fits/goes13/2015/07/07/SXI_20150707_000015167_BA_13.FTS'"
      ]
     },
     "execution_count": 10,
     "metadata": {},
     "output_type": "execute_result"
    }
   ],
   "source": [
    "download_str"
   ]
  },
  {
   "cell_type": "code",
   "execution_count": 11,
   "metadata": {},
   "outputs": [
    {
     "data": {
      "text/plain": [
       "1024"
      ]
     },
     "execution_count": 11,
     "metadata": {},
     "output_type": "execute_result"
    }
   ],
   "source": [
    "os.system(download_str)"
   ]
  },
  {
   "cell_type": "code",
   "execution_count": null,
   "metadata": {},
   "outputs": [],
   "source": []
  }
 ],
 "metadata": {
  "kernelspec": {
   "display_name": "aiadl_2",
   "language": "python",
   "name": "python3"
  },
  "language_info": {
   "codemirror_mode": {
    "name": "ipython",
    "version": 3
   },
   "file_extension": ".py",
   "mimetype": "text/x-python",
   "name": "python",
   "nbconvert_exporter": "python",
   "pygments_lexer": "ipython3",
   "version": "3.8.5"
  }
 },
 "nbformat": 4,
 "nbformat_minor": 2
}
