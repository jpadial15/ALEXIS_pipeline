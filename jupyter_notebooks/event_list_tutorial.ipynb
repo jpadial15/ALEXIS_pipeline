{
 "cells": [
  {
   "cell_type": "code",
   "execution_count": null,
   "id": "26639084",
   "metadata": {},
   "outputs": [],
   "source": [
    "# requires using the aiadl_2 environment\n",
    "\n"
   ]
  }
 ],
 "metadata": {
  "kernelspec": {
   "display_name": "aiadl_2",
   "language": "python",
   "name": "python3"
  },
  "language_info": {
   "name": "python",
   "version": "3.8.5"
  }
 },
 "nbformat": 4,
 "nbformat_minor": 5
}
