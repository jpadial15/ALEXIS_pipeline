{
 "cells": [
  {
   "cell_type": "code",
   "execution_count": 5,
   "metadata": {},
   "outputs": [],
   "source": [
    "import sys  \n",
    "sys.path.insert(1, '..')\n",
    "sys.path.insert(2, '../modules/')\n",
    "\n",
    "import pandas as pd\n",
    "import matplotlib.pyplot as plt\n",
    "import numpy as np\n",
    "import pickle\n",
    "from glob import glob\n",
    "from datetime import timedelta\n",
    "from modules import convert_datetime\n",
    "import dataconfig"
   ]
  },
  {
   "cell_type": "code",
   "execution_count": 6,
   "metadata": {},
   "outputs": [],
   "source": [
    "merged_df_list = []\n",
    "glob_str = f'{dataconfig.DATA_DIR_ZERO_CROSS}/*zero_cross_df.pickle'\n",
    "for file in glob(glob_str):\n",
    "    input_data = pickle.load(open(file, 'rb'))\n",
    "\n",
    "    merged_df_list.append(input_data)\n",
    "\n",
    "merged_zerocross_df = pd.concat(merged_df_list)"
   ]
  },
  {
   "cell_type": "code",
   "execution_count": 35,
   "metadata": {},
   "outputs": [],
   "source": [
    "hek_flares = pickle.load(open(f'{dataconfig.DATA_DIR_PRODUCTS}/hek_flare_db.pickle', 'rb'))\n"
   ]
  },
  {
   "cell_type": "code",
   "execution_count": 40,
   "metadata": {},
   "outputs": [
    {
     "data": {
      "text/plain": [
       "Index(['event_date', 'start_time', 'peak_time', 'end_time', 'goes_class',\n",
       "       'goes_letter', 'goes_number', 'AR_num', 'hgs_x', 'hgs_y',\n",
       "       'hgs_bbox_poly', 'hgc_x', 'hgc_y', 'hgc_bbox_poly', 'hpc_x', 'hpc_y',\n",
       "       'hpc_bbox_poly', 'event_type', 'telescope_used', 'id_institute',\n",
       "       'id_team', 'search_instrument', 'search_channel', 'noposition'],\n",
       "      dtype='object')"
      ]
     },
     "execution_count": 40,
     "metadata": {},
     "output_type": "execute_result"
    }
   ],
   "source": [
    "hek_flares.columns"
   ]
  },
  {
   "cell_type": "code",
   "execution_count": 85,
   "metadata": {},
   "outputs": [
    {
     "data": {
      "text/plain": [
       "SolarSoft    9038\n",
       "SWPC         8376\n",
       "SEC            26\n",
       "Annotator       4\n",
       "Name: id_team, dtype: int64"
      ]
     },
     "execution_count": 85,
     "metadata": {},
     "output_type": "execute_result"
    }
   ],
   "source": [
    "hek_flares[hek_flares.goes_letter >= 'C'].id_team.value_counts()"
   ]
  },
  {
   "cell_type": "code",
   "execution_count": 90,
   "metadata": {},
   "outputs": [
    {
     "data": {
      "text/plain": [
       "C    8198\n",
       "M     788\n",
       "X      52\n",
       "Name: goes_letter, dtype: int64"
      ]
     },
     "execution_count": 90,
     "metadata": {},
     "output_type": "execute_result"
    }
   ],
   "source": [
    "ss_flares = hek_flares[(hek_flares.id_team =='SolarSoft') & (hek_flares.goes_letter >= 'C')]\n",
    "ss_flares.goes_letter.value_counts()"
   ]
  },
  {
   "cell_type": "code",
   "execution_count": 91,
   "metadata": {},
   "outputs": [
    {
     "data": {
      "text/plain": [
       "C    582\n",
       "M     72\n",
       "X      2\n",
       "Name: goes_letter, dtype: int64"
      ]
     },
     "execution_count": 91,
     "metadata": {},
     "output_type": "execute_result"
    }
   ],
   "source": [
    "ss_flares[ss_flares.duplicated(subset='peak_time')].goes_letter.value_counts()"
   ]
  },
  {
   "cell_type": "code",
   "execution_count": 95,
   "metadata": {},
   "outputs": [
    {
     "data": {
      "text/html": [
       "<div>\n",
       "<style scoped>\n",
       "    .dataframe tbody tr th:only-of-type {\n",
       "        vertical-align: middle;\n",
       "    }\n",
       "\n",
       "    .dataframe tbody tr th {\n",
       "        vertical-align: top;\n",
       "    }\n",
       "\n",
       "    .dataframe thead th {\n",
       "        text-align: right;\n",
       "    }\n",
       "</style>\n",
       "<table border=\"1\" class=\"dataframe\">\n",
       "  <thead>\n",
       "    <tr style=\"text-align: right;\">\n",
       "      <th></th>\n",
       "      <th>self</th>\n",
       "      <th>other</th>\n",
       "    </tr>\n",
       "  </thead>\n",
       "  <tbody>\n",
       "    <tr>\n",
       "      <th>start_time</th>\n",
       "      <td>2014-06-28 01:49:00+00:00</td>\n",
       "      <td>2014-06-28 01:48:00+00:00</td>\n",
       "    </tr>\n",
       "    <tr>\n",
       "      <th>end_time</th>\n",
       "      <td>2014-06-28 02:14:00+00:00</td>\n",
       "      <td>2014-06-28 02:58:00+00:00</td>\n",
       "    </tr>\n",
       "    <tr>\n",
       "      <th>hgc_x</th>\n",
       "      <td>-89.58276</td>\n",
       "      <td>-89.57357</td>\n",
       "    </tr>\n",
       "    <tr>\n",
       "      <th>hgc_bbox_poly</th>\n",
       "      <td>[[0.41724, 1.0], [0.41724, 1.0], [0.41724, 1.0...</td>\n",
       "      <td>[[0.42643, 1.0], [0.42643, 1.0], [0.42643, 1.0...</td>\n",
       "    </tr>\n",
       "    <tr>\n",
       "      <th>hpc_bbox_poly</th>\n",
       "      <td>[[16.5366, -25.06308], [16.5366, -25.06308], [...</td>\n",
       "      <td>[[16.5366, -25.06176], [16.5366, -25.06176], [...</td>\n",
       "    </tr>\n",
       "  </tbody>\n",
       "</table>\n",
       "</div>"
      ],
      "text/plain": [
       "                                                            self  \\\n",
       "start_time                             2014-06-28 01:49:00+00:00   \n",
       "end_time                               2014-06-28 02:14:00+00:00   \n",
       "hgc_x                                                  -89.58276   \n",
       "hgc_bbox_poly  [[0.41724, 1.0], [0.41724, 1.0], [0.41724, 1.0...   \n",
       "hpc_bbox_poly  [[16.5366, -25.06308], [16.5366, -25.06308], [...   \n",
       "\n",
       "                                                           other  \n",
       "start_time                             2014-06-28 01:48:00+00:00  \n",
       "end_time                               2014-06-28 02:58:00+00:00  \n",
       "hgc_x                                                  -89.57357  \n",
       "hgc_bbox_poly  [[0.42643, 1.0], [0.42643, 1.0], [0.42643, 1.0...  \n",
       "hpc_bbox_poly  [[16.5366, -25.06176], [16.5366, -25.06176], [...  "
      ]
     },
     "execution_count": 95,
     "metadata": {},
     "output_type": "execute_result"
    }
   ],
   "source": [
    "test_time = ss_flares[ss_flares.duplicated(subset='peak_time')].iloc[392].peak_time\n",
    "\n",
    "ss_flares[ss_flares.peak_time == test_time].iloc[1].compare(ss_flares[ss_flares.peak_time == test_time].iloc[0])"
   ]
  },
  {
   "cell_type": "code",
   "execution_count": 73,
   "metadata": {},
   "outputs": [
    {
     "data": {
      "text/plain": [
       "C    7603\n",
       "M     724\n",
       "X      49\n",
       "Name: goes_letter, dtype: int64"
      ]
     },
     "execution_count": 73,
     "metadata": {},
     "output_type": "execute_result"
    }
   ],
   "source": [
    "g_flares = hek_flares[(hek_flares.id_team =='SWPC') & (hek_flares.goes_letter >= 'C')]\n",
    "g_flares.goes_letter.value_counts()"
   ]
  },
  {
   "cell_type": "code",
   "execution_count": 78,
   "metadata": {},
   "outputs": [
    {
     "data": {
      "text/plain": [
       "C    18\n",
       "M     5\n",
       "Name: goes_letter, dtype: int64"
      ]
     },
     "execution_count": 78,
     "metadata": {},
     "output_type": "execute_result"
    }
   ],
   "source": [
    "g_flares[g_flares.duplicated(subset='peak_time')].goes_letter.value_counts()"
   ]
  },
  {
   "cell_type": "code",
   "execution_count": 77,
   "metadata": {},
   "outputs": [
    {
     "data": {
      "text/html": [
       "<div>\n",
       "<style scoped>\n",
       "    .dataframe tbody tr th:only-of-type {\n",
       "        vertical-align: middle;\n",
       "    }\n",
       "\n",
       "    .dataframe tbody tr th {\n",
       "        vertical-align: top;\n",
       "    }\n",
       "\n",
       "    .dataframe thead th {\n",
       "        text-align: right;\n",
       "    }\n",
       "</style>\n",
       "<table border=\"1\" class=\"dataframe\">\n",
       "  <thead>\n",
       "    <tr style=\"text-align: right;\">\n",
       "      <th></th>\n",
       "      <th>self</th>\n",
       "      <th>other</th>\n",
       "    </tr>\n",
       "  </thead>\n",
       "  <tbody>\n",
       "    <tr>\n",
       "      <th>start_time</th>\n",
       "      <td>2012-09-29 07:50:00+00:00</td>\n",
       "      <td>2012-09-29 06:17:00+00:00</td>\n",
       "    </tr>\n",
       "    <tr>\n",
       "      <th>end_time</th>\n",
       "      <td>2012-09-29 07:56:00+00:00</td>\n",
       "      <td>2012-09-29 07:59:00+00:00</td>\n",
       "    </tr>\n",
       "    <tr>\n",
       "      <th>AR_num</th>\n",
       "      <td>11577.0</td>\n",
       "      <td>11575.0</td>\n",
       "    </tr>\n",
       "    <tr>\n",
       "      <th>hgs_x</th>\n",
       "      <td>66.0</td>\n",
       "      <td>45.0</td>\n",
       "    </tr>\n",
       "    <tr>\n",
       "      <th>hgs_y</th>\n",
       "      <td>9.0</td>\n",
       "      <td>6.0</td>\n",
       "    </tr>\n",
       "    <tr>\n",
       "      <th>hgs_bbox_poly</th>\n",
       "      <td>[[65.5, 8.5], [66.5, 8.5], [66.5, 9.5], [65.5,...</td>\n",
       "      <td>[[44.5, 5.5], [45.5, 5.5], [45.5, 6.5], [44.5,...</td>\n",
       "    </tr>\n",
       "    <tr>\n",
       "      <th>hgc_x</th>\n",
       "      <td>-172.09776</td>\n",
       "      <td>167.7545</td>\n",
       "    </tr>\n",
       "    <tr>\n",
       "      <th>hgc_y</th>\n",
       "      <td>9.0</td>\n",
       "      <td>6.0</td>\n",
       "    </tr>\n",
       "    <tr>\n",
       "      <th>hgc_bbox_poly</th>\n",
       "      <td>[[-172.59776, 8.5], [-171.59776, 8.5], [-171.5...</td>\n",
       "      <td>[[167.2545, 5.5], [168.2545, 5.5], [168.2545, ...</td>\n",
       "    </tr>\n",
       "    <tr>\n",
       "      <th>hpc_x</th>\n",
       "      <td>865.566</td>\n",
       "      <td>675.516</td>\n",
       "    </tr>\n",
       "    <tr>\n",
       "      <th>hpc_y</th>\n",
       "      <td>103.5018</td>\n",
       "      <td>19.89006</td>\n",
       "    </tr>\n",
       "    <tr>\n",
       "      <th>hpc_bbox_poly</th>\n",
       "      <td>[[863.358, 94.3362], [870.03, 96.1158], [867.6...</td>\n",
       "      <td>[[670.2, 10.84392], [681.96, 12.23754], [680.7...</td>\n",
       "    </tr>\n",
       "  </tbody>\n",
       "</table>\n",
       "</div>"
      ],
      "text/plain": [
       "                                                            self  \\\n",
       "start_time                             2012-09-29 07:50:00+00:00   \n",
       "end_time                               2012-09-29 07:56:00+00:00   \n",
       "AR_num                                                   11577.0   \n",
       "hgs_x                                                       66.0   \n",
       "hgs_y                                                        9.0   \n",
       "hgs_bbox_poly  [[65.5, 8.5], [66.5, 8.5], [66.5, 9.5], [65.5,...   \n",
       "hgc_x                                                 -172.09776   \n",
       "hgc_y                                                        9.0   \n",
       "hgc_bbox_poly  [[-172.59776, 8.5], [-171.59776, 8.5], [-171.5...   \n",
       "hpc_x                                                    865.566   \n",
       "hpc_y                                                   103.5018   \n",
       "hpc_bbox_poly  [[863.358, 94.3362], [870.03, 96.1158], [867.6...   \n",
       "\n",
       "                                                           other  \n",
       "start_time                             2012-09-29 06:17:00+00:00  \n",
       "end_time                               2012-09-29 07:59:00+00:00  \n",
       "AR_num                                                   11575.0  \n",
       "hgs_x                                                       45.0  \n",
       "hgs_y                                                        6.0  \n",
       "hgs_bbox_poly  [[44.5, 5.5], [45.5, 5.5], [45.5, 6.5], [44.5,...  \n",
       "hgc_x                                                   167.7545  \n",
       "hgc_y                                                        6.0  \n",
       "hgc_bbox_poly  [[167.2545, 5.5], [168.2545, 5.5], [168.2545, ...  \n",
       "hpc_x                                                    675.516  \n",
       "hpc_y                                                   19.89006  \n",
       "hpc_bbox_poly  [[670.2, 10.84392], [681.96, 12.23754], [680.7...  "
      ]
     },
     "execution_count": 77,
     "metadata": {},
     "output_type": "execute_result"
    }
   ],
   "source": [
    "g_flares[g_flares.duplicated(subset='peak_time')].goes_letter.value_counts()\n",
    "\n",
    "test_time2 = g_flares[g_flares.duplicated(subset='peak_time')].iloc[2].peak_time\n",
    "\n",
    "g_flares[g_flares.peak_time == test_time2].iloc[1].compare(g_flares[g_flares.peak_time == test_time2].iloc[0])"
   ]
  },
  {
   "cell_type": "code",
   "execution_count": null,
   "metadata": {},
   "outputs": [],
   "source": [
    "ss_flares = hek_flares[(hek_flares.id_team =='SolarSoft') & (hek_flares.goes_letter >= 'C')]\n",
    "ss_flares.goes_letter.value_counts()"
   ]
  },
  {
   "cell_type": "code",
   "execution_count": 8,
   "metadata": {},
   "outputs": [],
   "source": [
    "flare_class_dict_query = {'A': 1e-8, 'B': 1e-7, 'C': 1e-6, 'M': 1e-5, 'X': 1e-4}\n",
    "teams = {'ALEXIS': 1, 'SWPC': 2, 'SolarSoft':4}  \n",
    "# tuples are (ALEXIS, SWPC, solar_soft)    \n",
    "id_dict = {'7':(1,1,1), '6': (0,1,1), '5': (1,0,1),'4': (0,0,1),'3': (1,1,0),'2': (0,1,0),'1': (1,0,0)}"
   ]
  },
  {
   "cell_type": "code",
   "execution_count": 9,
   "metadata": {},
   "outputs": [],
   "source": [
    "goes_flares = hek_flares[(hek_flares['id_team'] == 'SWPC')& (hek_flares['goes_class'] > 'C')].reset_index(drop= True)\n",
    "\n",
    "solarsoft_flares = hek_flares[(hek_flares['id_team'] == 'SolarSoft') & (hek_flares['goes_class'] > 'C')].reset_index(drop= True)\n",
    "\n",
    "zero_cross = merged_zerocross_df[(merged_zerocross_df['resampled_value'] > flare_class_dict_query['C'])].reset_index(drop= True)\n"
   ]
  },
  {
   "cell_type": "code",
   "execution_count": 22,
   "metadata": {},
   "outputs": [
    {
     "data": {
      "text/html": [
       "<div>\n",
       "<style scoped>\n",
       "    .dataframe tbody tr th:only-of-type {\n",
       "        vertical-align: middle;\n",
       "    }\n",
       "\n",
       "    .dataframe tbody tr th {\n",
       "        vertical-align: top;\n",
       "    }\n",
       "\n",
       "    .dataframe thead th {\n",
       "        text-align: right;\n",
       "    }\n",
       "</style>\n",
       "<table border=\"1\" class=\"dataframe\">\n",
       "  <thead>\n",
       "    <tr style=\"text-align: right;\">\n",
       "      <th></th>\n",
       "      <th>peak_time</th>\n",
       "      <th>id_team</th>\n",
       "    </tr>\n",
       "  </thead>\n",
       "  <tbody>\n",
       "    <tr>\n",
       "      <th>0</th>\n",
       "      <td>2010-05-01 01:39:00+00:00</td>\n",
       "      <td>SolarSoft</td>\n",
       "    </tr>\n",
       "    <tr>\n",
       "      <th>1</th>\n",
       "      <td>2010-05-04 16:29:00+00:00</td>\n",
       "      <td>SolarSoft</td>\n",
       "    </tr>\n",
       "    <tr>\n",
       "      <th>2</th>\n",
       "      <td>2010-05-05 07:16:00+00:00</td>\n",
       "      <td>SolarSoft</td>\n",
       "    </tr>\n",
       "    <tr>\n",
       "      <th>3</th>\n",
       "      <td>2010-05-05 11:52:00+00:00</td>\n",
       "      <td>SolarSoft</td>\n",
       "    </tr>\n",
       "    <tr>\n",
       "      <th>4</th>\n",
       "      <td>2010-05-05 17:19:00+00:00</td>\n",
       "      <td>SolarSoft</td>\n",
       "    </tr>\n",
       "    <tr>\n",
       "      <th>...</th>\n",
       "      <td>...</td>\n",
       "      <td>...</td>\n",
       "    </tr>\n",
       "    <tr>\n",
       "      <th>9033</th>\n",
       "      <td>2020-11-28 23:18:00+00:00</td>\n",
       "      <td>SolarSoft</td>\n",
       "    </tr>\n",
       "    <tr>\n",
       "      <th>9034</th>\n",
       "      <td>2020-11-29 01:16:00+00:00</td>\n",
       "      <td>SolarSoft</td>\n",
       "    </tr>\n",
       "    <tr>\n",
       "      <th>9035</th>\n",
       "      <td>2020-11-29 01:16:00+00:00</td>\n",
       "      <td>SolarSoft</td>\n",
       "    </tr>\n",
       "    <tr>\n",
       "      <th>9036</th>\n",
       "      <td>2020-11-29 11:44:00+00:00</td>\n",
       "      <td>SolarSoft</td>\n",
       "    </tr>\n",
       "    <tr>\n",
       "      <th>9037</th>\n",
       "      <td>2020-11-29 13:11:00+00:00</td>\n",
       "      <td>SolarSoft</td>\n",
       "    </tr>\n",
       "  </tbody>\n",
       "</table>\n",
       "<p>9038 rows × 2 columns</p>\n",
       "</div>"
      ],
      "text/plain": [
       "                     peak_time    id_team\n",
       "0    2010-05-01 01:39:00+00:00  SolarSoft\n",
       "1    2010-05-04 16:29:00+00:00  SolarSoft\n",
       "2    2010-05-05 07:16:00+00:00  SolarSoft\n",
       "3    2010-05-05 11:52:00+00:00  SolarSoft\n",
       "4    2010-05-05 17:19:00+00:00  SolarSoft\n",
       "...                        ...        ...\n",
       "9033 2020-11-28 23:18:00+00:00  SolarSoft\n",
       "9034 2020-11-29 01:16:00+00:00  SolarSoft\n",
       "9035 2020-11-29 01:16:00+00:00  SolarSoft\n",
       "9036 2020-11-29 11:44:00+00:00  SolarSoft\n",
       "9037 2020-11-29 13:11:00+00:00  SolarSoft\n",
       "\n",
       "[9038 rows x 2 columns]"
      ]
     },
     "execution_count": 22,
     "metadata": {},
     "output_type": "execute_result"
    }
   ],
   "source": [
    "solarsoft_flares"
   ]
  },
  {
   "cell_type": "code",
   "execution_count": 10,
   "metadata": {},
   "outputs": [
    {
     "name": "stderr",
     "output_type": "stream",
     "text": [
      "<ipython-input-10-531287107d90>:5: SettingWithCopyWarning: \n",
      "A value is trying to be set on a copy of a slice from a DataFrame.\n",
      "Try using .loc[row_indexer,col_indexer] = value instead\n",
      "\n",
      "See the caveats in the documentation: https://pandas.pydata.org/pandas-docs/stable/user_guide/indexing.html#returning-a-view-versus-a-copy\n",
      "  our_flares['id_team'] = 'ALEXIS'\n"
     ]
    }
   ],
   "source": [
    "#define our zero crossing df\n",
    "\n",
    "our_flares = zero_cross[['zerocross_date_time']]\n",
    "\n",
    "our_flares['id_team'] = 'ALEXIS'\n",
    "\n",
    "only_duplicated_zero = our_flares[(our_flares.duplicated())]\n",
    "\n",
    "zero_flares = our_flares.rename(columns = {'zerocross_date_time': 'peak_time'})"
   ]
  },
  {
   "cell_type": "code",
   "execution_count": 11,
   "metadata": {},
   "outputs": [],
   "source": [
    "\n",
    "# define SWPC Flares\n",
    "\n",
    "goes_flares = pd.DataFrame(goes_flares.peak_time, columns = ['peak_time'])\n",
    "\n",
    "goes_flares['id_team'] = 'SWPC'"
   ]
  },
  {
   "cell_type": "code",
   "execution_count": 12,
   "metadata": {},
   "outputs": [],
   "source": [
    "# define solarsoft flares\n",
    "\n",
    "solarsoft_flares = pd.DataFrame(solarsoft_flares.peak_time, columns = ['peak_time'])\n",
    "\n",
    "solarsoft_flares['id_team'] = 'SolarSoft'\n"
   ]
  },
  {
   "cell_type": "code",
   "execution_count": 13,
   "metadata": {},
   "outputs": [],
   "source": [
    "all_flares_not_masked = pd.concat([zero_flares , goes_flares,  solarsoft_flares], ignore_index=True)\n",
    "\n",
    "date_limit_low, date_limit_high = pd.Timestamp('2010/5/1T00:00:00', tz = 'utc'),pd.Timestamp('2020/3/4T00:00:00', tz = 'utc')\n",
    "\n",
    "all_flares = all_flares_not_masked[(all_flares_not_masked.peak_time >= date_limit_low) & (all_flares_not_masked.peak_time <= date_limit_high)].sort_values(by = 'peak_time').reset_index(drop = True)"
   ]
  },
  {
   "cell_type": "code",
   "execution_count": 14,
   "metadata": {},
   "outputs": [],
   "source": [
    "minutes_per_agg = 10\n",
    "\n",
    "j = 0 # grab first datetime in the list\n",
    "flares_list = [] # keep track of info from loop\n",
    "\n",
    "while j < len(all_flares.peak_time):\n",
    "    \n",
    "    datetime = all_flares.peak_time.iloc[j] # grab j-th datetime\n",
    "        \n",
    "    fwd = datetime + timedelta(minutes = minutes_per_agg) # choose fwd time range\n",
    "     \n",
    "    mask = all_flares[(all_flares.peak_time < fwd) & (all_flares.peak_time >= datetime)] # return df with all entries from current datetime to fwd time\n",
    "    \n",
    "    this_flare_datetime_list = []\n",
    "    \n",
    "    this_flare_identification = []\n",
    "    \n",
    "    for group in teams: \n",
    "        \n",
    "        group_mask = mask[(mask.id_team) == group] #filter for all elements of mask that are returned by each individual group\n",
    "        \n",
    "        number_of_entries = len(group_mask)\n",
    "        \n",
    "        if number_of_entries != 0:\n",
    "        \n",
    "            mean_datetime = np.mean(group_mask.peak_time)\n",
    "            \n",
    "            this_flare_datetime_list.append({'datetime': mean_datetime})\n",
    "            \n",
    "            this_flare_identification.append(teams[group])\n",
    "                   \n",
    "        \n",
    "    sum_of_ids = np.sum(this_flare_identification)\n",
    "    \n",
    "    flare_id_tuple = id_dict[str(sum_of_ids)]\n",
    "    \n",
    "    datetime_df = pd.DataFrame(this_flare_datetime_list)\n",
    "    \n",
    "    merged_datetime = np.mean(datetime_df.datetime)\n",
    "            \n",
    "    flares_list.append({'merged_datetime': merged_datetime,\n",
    "                        'id_tuple': flare_id_tuple})\n",
    "    \n",
    "    k = len(mask) # go k amount fwd in the list of datetimes\n",
    "\n",
    "    j = j + k"
   ]
  },
  {
   "cell_type": "code",
   "execution_count": 15,
   "metadata": {},
   "outputs": [
    {
     "data": {
      "text/html": [
       "<div>\n",
       "<style scoped>\n",
       "    .dataframe tbody tr th:only-of-type {\n",
       "        vertical-align: middle;\n",
       "    }\n",
       "\n",
       "    .dataframe tbody tr th {\n",
       "        vertical-align: top;\n",
       "    }\n",
       "\n",
       "    .dataframe thead th {\n",
       "        text-align: right;\n",
       "    }\n",
       "</style>\n",
       "<table border=\"1\" class=\"dataframe\">\n",
       "  <thead>\n",
       "    <tr style=\"text-align: right;\">\n",
       "      <th></th>\n",
       "      <th>merged_datetime</th>\n",
       "      <th>id_tuple</th>\n",
       "    </tr>\n",
       "  </thead>\n",
       "  <tbody>\n",
       "    <tr>\n",
       "      <th>0</th>\n",
       "      <td>2010-05-01 01:39:00.046000128+00:00</td>\n",
       "      <td>(1, 1, 1)</td>\n",
       "    </tr>\n",
       "    <tr>\n",
       "      <th>1</th>\n",
       "      <td>2010-05-04 16:29:20.046000128+00:00</td>\n",
       "      <td>(1, 1, 1)</td>\n",
       "    </tr>\n",
       "    <tr>\n",
       "      <th>2</th>\n",
       "      <td>2010-05-05 07:15:40.046000128+00:00</td>\n",
       "      <td>(1, 1, 1)</td>\n",
       "    </tr>\n",
       "    <tr>\n",
       "      <th>3</th>\n",
       "      <td>2010-05-05 11:52:40.046000128+00:00</td>\n",
       "      <td>(1, 1, 1)</td>\n",
       "    </tr>\n",
       "    <tr>\n",
       "      <th>4</th>\n",
       "      <td>2010-05-05 17:19:40.046000128+00:00</td>\n",
       "      <td>(1, 1, 1)</td>\n",
       "    </tr>\n",
       "    <tr>\n",
       "      <th>...</th>\n",
       "      <td>...</td>\n",
       "      <td>...</td>\n",
       "    </tr>\n",
       "    <tr>\n",
       "      <th>38662</th>\n",
       "      <td>2019-05-07 10:47:39.833166592+00:00</td>\n",
       "      <td>(1, 1, 1)</td>\n",
       "    </tr>\n",
       "    <tr>\n",
       "      <th>38663</th>\n",
       "      <td>2019-05-07 11:26:59.499500032+00:00</td>\n",
       "      <td>(1, 0, 0)</td>\n",
       "    </tr>\n",
       "    <tr>\n",
       "      <th>38664</th>\n",
       "      <td>2019-05-07 11:56:19.833166592+00:00</td>\n",
       "      <td>(1, 1, 1)</td>\n",
       "    </tr>\n",
       "    <tr>\n",
       "      <th>38665</th>\n",
       "      <td>2019-05-09 05:50:59.833166592+00:00</td>\n",
       "      <td>(1, 1, 1)</td>\n",
       "    </tr>\n",
       "    <tr>\n",
       "      <th>38666</th>\n",
       "      <td>2019-05-15 19:23:59.833166592+00:00</td>\n",
       "      <td>(1, 1, 1)</td>\n",
       "    </tr>\n",
       "  </tbody>\n",
       "</table>\n",
       "<p>38667 rows × 2 columns</p>\n",
       "</div>"
      ],
      "text/plain": [
       "                          merged_datetime   id_tuple\n",
       "0     2010-05-01 01:39:00.046000128+00:00  (1, 1, 1)\n",
       "1     2010-05-04 16:29:20.046000128+00:00  (1, 1, 1)\n",
       "2     2010-05-05 07:15:40.046000128+00:00  (1, 1, 1)\n",
       "3     2010-05-05 11:52:40.046000128+00:00  (1, 1, 1)\n",
       "4     2010-05-05 17:19:40.046000128+00:00  (1, 1, 1)\n",
       "...                                   ...        ...\n",
       "38662 2019-05-07 10:47:39.833166592+00:00  (1, 1, 1)\n",
       "38663 2019-05-07 11:26:59.499500032+00:00  (1, 0, 0)\n",
       "38664 2019-05-07 11:56:19.833166592+00:00  (1, 1, 1)\n",
       "38665 2019-05-09 05:50:59.833166592+00:00  (1, 1, 1)\n",
       "38666 2019-05-15 19:23:59.833166592+00:00  (1, 1, 1)\n",
       "\n",
       "[38667 rows x 2 columns]"
      ]
     },
     "execution_count": 15,
     "metadata": {},
     "output_type": "execute_result"
    }
   ],
   "source": [
    "flare_list_df = pd.DataFrame(flares_list)\n",
    "flare_list_df"
   ]
  },
  {
   "cell_type": "code",
   "execution_count": 16,
   "metadata": {},
   "outputs": [],
   "source": [
    "plot_this = []\n",
    "for name,group in pd.DataFrame(flares_list).groupby('id_tuple'):\n",
    "    \n",
    "    plot_this.append({'id_tuple': name, \n",
    "                     'counts': len(group)})"
   ]
  },
  {
   "cell_type": "code",
   "execution_count": 17,
   "metadata": {},
   "outputs": [
    {
     "data": {
      "text/html": [
       "<div>\n",
       "<style scoped>\n",
       "    .dataframe tbody tr th:only-of-type {\n",
       "        vertical-align: middle;\n",
       "    }\n",
       "\n",
       "    .dataframe tbody tr th {\n",
       "        vertical-align: top;\n",
       "    }\n",
       "\n",
       "    .dataframe thead th {\n",
       "        text-align: right;\n",
       "    }\n",
       "</style>\n",
       "<table border=\"1\" class=\"dataframe\">\n",
       "  <thead>\n",
       "    <tr style=\"text-align: right;\">\n",
       "      <th></th>\n",
       "      <th>id_tuple</th>\n",
       "      <th>counts</th>\n",
       "    </tr>\n",
       "  </thead>\n",
       "  <tbody>\n",
       "    <tr>\n",
       "      <th>0</th>\n",
       "      <td>(0, 0, 1)</td>\n",
       "      <td>60</td>\n",
       "    </tr>\n",
       "    <tr>\n",
       "      <th>1</th>\n",
       "      <td>(0, 1, 0)</td>\n",
       "      <td>36</td>\n",
       "    </tr>\n",
       "    <tr>\n",
       "      <th>2</th>\n",
       "      <td>(0, 1, 1)</td>\n",
       "      <td>268</td>\n",
       "    </tr>\n",
       "    <tr>\n",
       "      <th>3</th>\n",
       "      <td>(1, 0, 0)</td>\n",
       "      <td>29982</td>\n",
       "    </tr>\n",
       "    <tr>\n",
       "      <th>4</th>\n",
       "      <td>(1, 0, 1)</td>\n",
       "      <td>378</td>\n",
       "    </tr>\n",
       "    <tr>\n",
       "      <th>5</th>\n",
       "      <td>(1, 1, 0)</td>\n",
       "      <td>555</td>\n",
       "    </tr>\n",
       "    <tr>\n",
       "      <th>6</th>\n",
       "      <td>(1, 1, 1)</td>\n",
       "      <td>7388</td>\n",
       "    </tr>\n",
       "  </tbody>\n",
       "</table>\n",
       "</div>"
      ],
      "text/plain": [
       "    id_tuple  counts\n",
       "0  (0, 0, 1)      60\n",
       "1  (0, 1, 0)      36\n",
       "2  (0, 1, 1)     268\n",
       "3  (1, 0, 0)   29982\n",
       "4  (1, 0, 1)     378\n",
       "5  (1, 1, 0)     555\n",
       "6  (1, 1, 1)    7388"
      ]
     },
     "execution_count": 17,
     "metadata": {},
     "output_type": "execute_result"
    }
   ],
   "source": [
    "stat_df = pd.DataFrame(plot_this)\n",
    "\n",
    "stat_df\n"
   ]
  },
  {
   "cell_type": "code",
   "execution_count": 21,
   "metadata": {},
   "outputs": [
    {
     "data": {
      "text/plain": [
       "1"
      ]
     },
     "execution_count": 21,
     "metadata": {},
     "output_type": "execute_result"
    }
   ],
   "source": [
    "np.sum(stat_df.counts) - np.sum([55,57,248,30028,337,1788,6153])"
   ]
  },
  {
   "cell_type": "code",
   "execution_count": 20,
   "metadata": {},
   "outputs": [
    {
     "data": {
      "text/plain": [
       "38666"
      ]
     },
     "execution_count": 20,
     "metadata": {},
     "output_type": "execute_result"
    }
   ],
   "source": [
    "\n"
   ]
  },
  {
   "cell_type": "code",
   "execution_count": 18,
   "metadata": {},
   "outputs": [
    {
     "name": "stdout",
     "output_type": "stream",
     "text": [
      "-0.4\n",
      "0.6\n",
      "1.6\n",
      "2.6\n",
      "3.6\n",
      "4.6\n",
      "5.6\n"
     ]
    },
    {
     "data": {
      "image/png": "[encoded data removed]",
      "text/plain": [
       "<Figure size 1440x720 with 1 Axes>"
      ]
     },
     "metadata": {
      "needs_background": "light"
     },
     "output_type": "display_data"
    }
   ],
   "source": [
    "import matplotlib.pyplot as plt\n",
    "\n",
    "fig = plt.figure(figsize = (20,10))\n",
    "ax = fig.add_subplot(111)\n",
    "\n",
    "\n",
    "# Example data\n",
    "id_tuple = stat_df.id_tuple.to_list()\n",
    "y_pos = np.arange(len(id_tuple))\n",
    "counts = stat_df.counts.to_list()\n",
    "# error = np.random.rand(len(people))\n",
    "\n",
    "\n",
    "\n",
    "hbars = ax.barh(y_pos, counts, align='center')\n",
    "ax.set_yticks(y_pos)\n",
    "ax.set_yticklabels(id_tuple)\n",
    "ax.invert_yaxis()  # labels read top-to-bottom\n",
    "ax.set_xlabel('counts')\n",
    "ax.set_ylabel('id_tuple == (jonas_lab, SWPC, solarsoft)')\n",
    "ax.set_title('id_tuple == (jonas_lab, SWPC, solarsoft) @ {} minute fwd time'.format(minutes_per_agg))\n",
    "\n",
    "for bar in hbars:\n",
    "    print(bar.get_y())\n",
    "    ax.text(bar.get_width(), bar.get_y(), s = bar.get_width(), va = 'center')\n",
    "\n",
    "ax.set_xscale('log')"
   ]
  }
 ],
 "metadata": {
  "kernelspec": {
   "display_name": "aiadl_2",
   "language": "python",
   "name": "python3"
  },
  "language_info": {
   "codemirror_mode": {
    "name": "ipython",
    "version": 3
   },
   "file_extension": ".py",
   "mimetype": "text/x-python",
   "name": "python",
   "nbconvert_exporter": "python",
   "pygments_lexer": "ipython3",
   "version": "3.8.5"
  }
 },
 "nbformat": 4,
 "nbformat_minor": 2
}
