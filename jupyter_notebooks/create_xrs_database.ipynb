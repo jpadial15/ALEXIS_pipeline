{
 "cells": [
  {
   "cell_type": "code",
   "execution_count": 16,
   "metadata": {},
   "outputs": [],
   "source": [
    "import sys  \n",
    "sys.path.insert(1, '..')\n",
    "sys.path.insert(2, '../modules/')\n"
   ]
  },
  {
   "cell_type": "code",
   "execution_count": 17,
   "metadata": {},
   "outputs": [],
   "source": [
    "from datetime import timedelta, date\n",
    "import pickle\n",
    "from ruffus import *\n",
    "import os\n",
    "import xarray as xr\n",
    "import pandas as pd\n",
    "import numpy as np\n",
    "import re\n",
    "import dataconfig"
   ]
  },
  {
   "cell_type": "code",
   "execution_count": 22,
   "metadata": {},
   "outputs": [],
   "source": [
    "WORKING_DIR = dataconfig.DATA_DIR_GOES_FLUX\n",
    "\n",
    "DATA_PRODUCT_DIR = dataconfig.DATA_DIR_PRODUCTS\n",
    "\n",
    "tw = lambda x: os.path.join(WORKING_DIR, x)\n",
    "\n",
    "\n",
    "\n",
    "###### REVIEW AND OPTIMIZE Jan17,2020 ###########\n",
    "\n",
    "\n",
    "# some dictionaries we'll use sometimes\n",
    "instruments = ['goes13', 'goes14', 'goes15']\n",
    "\n",
    "inst_dict = {'goes13': 'g13', 'goes14': 'g14', 'goes15': 'g15'}\n",
    "\n",
    "ftp_prename = 'ftp://satdat.ngdc.noaa.gov/sem/goes/data/science/xrs'\n",
    "# ftp_prename = 'https://ncei.noaa.gov/data/goes-space-environment-monitor/access/science/xrs'\n",
    "\n",
    "\n",
    "#### set the date limits of the data you want to download\n",
    "\n",
    "# start_download_from = input('Insert date and time you would like your XRay Flux Data to START from. For example: YYYY-MM-DD HH:MM:SS ' )\n",
    "\n",
    "# end_download_at = input('Insert date and time you would like your XRay Flux Data to END at. For example: YYYY-MM-DD HH:MM:SS ' )\n",
    "\n",
    "start_download_from = '2010-05-01T00:00:00'\n",
    "end_download_at = '2010-05-02T00:00:00'\n",
    "\n",
    "START_DATE_TIME = pd.Timestamp(start_download_from, tz = 'utc')\n",
    "\n",
    "END_DATE_TIME = pd.Timestamp(end_download_at, tz = 'utc')\n",
    "\n",
    "\n",
    "def daterange(date1, date2):\n",
    "    for n in range(int ((date2 - date1).days)+1):\n",
    "        yield date1 + timedelta(n)\n",
    "\n",
    "\n",
    "all_dates_list = []\n",
    "\n",
    "# start_dt = date(2010, 5, 1)\n",
    "# end_dt = date(2020,3,5)\n",
    "# for dt in daterange(start_dt, end_dt):\n",
    "#     # all_dates_list.append(dt.strftime(\"%Y%m%d\"))\n",
    "#     all_dates_list.append(dt)\n",
    "\n",
    "\n",
    "for dt in daterange(START_DATE_TIME, END_DATE_TIME):\n",
    "    # all_dates_list.append(dt.strftime(\"%Y%m%d\"))\n",
    "    all_dates_list.append(dt)\n",
    "\n",
    "\n",
    "ftp_name_dict = []\n",
    "\n",
    "for full_instrument_name in instruments:\n",
    "\n",
    "    for this_date in all_dates_list:\n",
    "\n",
    "        specific_date_str = this_date.strftime(\"%Y%m%d\")\n",
    "\n",
    "        year, month, day = this_date.strftime('%Y'), this_date.strftime('%m'), this_date.strftime('%d')\n",
    "\n",
    "        specific_file_name = f'sci_gxrs-l2-irrad_{inst_dict[full_instrument_name]}_d{specific_date_str}_v0-0-0.nc'\n",
    "\n",
    "        ftp_name = f'{ftp_prename}/{full_instrument_name}/gxrs-l2-irrad_science/{year}/{month}/{specific_file_name}'\n",
    "\n",
    "        outfile_str = tw(f'{year}-{month}-{day}_{full_instrument_name}_irrad.nc')\n",
    "\n",
    "        wget_log_file = f'{outfile_str}.wget_log'\n",
    "\n",
    "        ftp_name_dict.append({'download_file': ftp_name, 'out_name': outfile_str, 'wget_log_file': wget_log_file })"
   ]
  },
  {
   "cell_type": "code",
   "execution_count": 23,
   "metadata": {},
   "outputs": [
    {
     "data": {
      "text/plain": [
       "[{'download_file': 'ftp://satdat.ngdc.noaa.gov/sem/goes/data/science/xrs/goes13/gxrs-l2-irrad_science/2010/05/sci_gxrs-l2-irrad_g13_d20100501_v0-0-0.nc',\n",
       "  'out_name': '/mnt/e/image_data/xrs_data_flux/2010-05-01_goes13_irrad.nc',\n",
       "  'wget_log_file': '/mnt/e/image_data/xrs_data_flux/2010-05-01_goes13_irrad.nc.wget_log'},\n",
       " {'download_file': 'ftp://satdat.ngdc.noaa.gov/sem/goes/data/science/xrs/goes13/gxrs-l2-irrad_science/2010/05/sci_gxrs-l2-irrad_g13_d20100502_v0-0-0.nc',\n",
       "  'out_name': '/mnt/e/image_data/xrs_data_flux/2010-05-02_goes13_irrad.nc',\n",
       "  'wget_log_file': '/mnt/e/image_data/xrs_data_flux/2010-05-02_goes13_irrad.nc.wget_log'},\n",
       " {'download_file': 'ftp://satdat.ngdc.noaa.gov/sem/goes/data/science/xrs/goes14/gxrs-l2-irrad_science/2010/05/sci_gxrs-l2-irrad_g14_d20100501_v0-0-0.nc',\n",
       "  'out_name': '/mnt/e/image_data/xrs_data_flux/2010-05-01_goes14_irrad.nc',\n",
       "  'wget_log_file': '/mnt/e/image_data/xrs_data_flux/2010-05-01_goes14_irrad.nc.wget_log'},\n",
       " {'download_file': 'ftp://satdat.ngdc.noaa.gov/sem/goes/data/science/xrs/goes14/gxrs-l2-irrad_science/2010/05/sci_gxrs-l2-irrad_g14_d20100502_v0-0-0.nc',\n",
       "  'out_name': '/mnt/e/image_data/xrs_data_flux/2010-05-02_goes14_irrad.nc',\n",
       "  'wget_log_file': '/mnt/e/image_data/xrs_data_flux/2010-05-02_goes14_irrad.nc.wget_log'},\n",
       " {'download_file': 'ftp://satdat.ngdc.noaa.gov/sem/goes/data/science/xrs/goes15/gxrs-l2-irrad_science/2010/05/sci_gxrs-l2-irrad_g15_d20100501_v0-0-0.nc',\n",
       "  'out_name': '/mnt/e/image_data/xrs_data_flux/2010-05-01_goes15_irrad.nc',\n",
       "  'wget_log_file': '/mnt/e/image_data/xrs_data_flux/2010-05-01_goes15_irrad.nc.wget_log'},\n",
       " {'download_file': 'ftp://satdat.ngdc.noaa.gov/sem/goes/data/science/xrs/goes15/gxrs-l2-irrad_science/2010/05/sci_gxrs-l2-irrad_g15_d20100502_v0-0-0.nc',\n",
       "  'out_name': '/mnt/e/image_data/xrs_data_flux/2010-05-02_goes15_irrad.nc',\n",
       "  'wget_log_file': '/mnt/e/image_data/xrs_data_flux/2010-05-02_goes15_irrad.nc.wget_log'}]"
      ]
     },
     "execution_count": 23,
     "metadata": {},
     "output_type": "execute_result"
    }
   ],
   "source": [
    "queries = ftp_name_dict\n",
    "queries"
   ]
  },
  {
   "cell_type": "code",
   "execution_count": 27,
   "metadata": {},
   "outputs": [
    {
     "data": {
      "text/plain": [
       "1024"
      ]
     },
     "execution_count": 27,
     "metadata": {},
     "output_type": "execute_result"
    }
   ],
   "source": [
    "test_query = queries[0]\n",
    "ftp_query_name = test_query['download_file']\n",
    "outfile_name = test_query['out_name']\n",
    "wget_log_file = test_query['wget_log_file']\n",
    "\n",
    "#     ############### EDIT ###################\n",
    "\n",
    "#         # Include \"outname\" in oufile dict in order to offer continuity to the pipeline\n",
    "\n",
    "# # ftp_query_name = 'https://ncei.noaa.gov/data/goes-space-environment-monitor/access/science/xrs/goes14/gxrs-l2-irrad_science/2010/05/sci_gxrs-l2-irrad_g14_d20100501_v0-0-0.nc'\n",
    "# outfile_name = queries['out_name']\n",
    "\n",
    "# # print(outfile)\n",
    "\n",
    "download_str = f'wget -e robots=off --recursive --no-parent -A --directory-prefix {WORKING_DIR} --no-directories --verbose False {ftp_query_name} -O {outfile_name} -o {wget_log_file}' \n",
    "\n",
    "os.system(download_str)\n",
    "# print(download_str)"
   ]
  },
  {
   "cell_type": "code",
   "execution_count": 21,
   "metadata": {},
   "outputs": [
    {
     "ename": "KeyError",
     "evalue": "''",
     "output_type": "error",
     "traceback": [
      "\u001b[0;31m---------------------------------------------------------------------------\u001b[0m",
      "\u001b[0;31mKeyError\u001b[0m                                  Traceback (most recent call last)",
      "\u001b[0;32m<ipython-input-21-ed097e342c76>\u001b[0m in \u001b[0;36m<module>\u001b[0;34m\u001b[0m\n\u001b[1;32m      4\u001b[0m \u001b[0;34m\u001b[0m\u001b[0m\n\u001b[1;32m      5\u001b[0m \u001b[0;32mfor\u001b[0m \u001b[0melement\u001b[0m \u001b[0;32min\u001b[0m \u001b[0mqueries\u001b[0m\u001b[0;34m:\u001b[0m\u001b[0;34m\u001b[0m\u001b[0;34m\u001b[0m\u001b[0m\n\u001b[0;32m----> 6\u001b[0;31m     \u001b[0mprint\u001b[0m\u001b[0;34m(\u001b[0m\u001b[0melement\u001b[0m\u001b[0;34m[\u001b[0m\u001b[0;34m''\u001b[0m\u001b[0;34m]\u001b[0m\u001b[0;34m)\u001b[0m\u001b[0;34m\u001b[0m\u001b[0;34m\u001b[0m\u001b[0m\n\u001b[0m\u001b[1;32m      7\u001b[0m \u001b[0;34m\u001b[0m\u001b[0m\n\u001b[1;32m      8\u001b[0m     \u001b[0;31m# ftp_query_name = element['download_file']\u001b[0m\u001b[0;34m\u001b[0m\u001b[0;34m\u001b[0m\u001b[0;34m\u001b[0m\u001b[0m\n",
      "\u001b[0;31mKeyError\u001b[0m: ''"
     ]
    }
   ],
   "source": [
    "# ftp_query_name = 'https://ncei.noaa.gov/data/goes-space-environment-monitor/access/science/xrs/goes14/gxrs-l2-irrad_science/2010/05/sci_gxrs-l2-irrad_g14_d20100501_v0-0-0.nc'\n",
    "# ftp_query_name = 'https://ncei.noaa.gov/data/goes-space-environment-monitor/access/science/xrs/goes14/gxrs-l2-irrad_science/2010/05/sci_gxrs-l2-irrad_g14_d20100501_v0-0-0.nc'\n",
    "# ftp_prename = 'ftp://satdat.ngdc.noaa.gov/sem/goes/data/science/xrs'\n",
    "\n",
    "# for element in queries:\n",
    "#     print(element[''])\n",
    "\n",
    "    # ftp_query_name = element['download_file']\n",
    "    # print(ftp_query_name)\n",
    "    # response = os.system(f'wget -q {ftp_query_name}')\n",
    "    # print(response)"
   ]
  },
  {
   "cell_type": "code",
   "execution_count": null,
   "metadata": {},
   "outputs": [
    {
     "data": {
      "text/plain": [
       "'ftp://satdat.ngdc.noaa.gov/sem/goes/data/science/xrs/goes14/gxrs-l2-irrad_science/2010/05/sci_gxrs-l2-irrad_g14_d20100501_v0-0-0.nc'"
      ]
     },
     "execution_count": 36,
     "metadata": {},
     "output_type": "execute_result"
    }
   ],
   "source": [
    "ftp_query_name"
   ]
  },
  {
   "cell_type": "code",
   "execution_count": 28,
   "metadata": {},
   "outputs": [],
   "source": [
    "current_dir = os.getcwd()\n",
    "parent_dir = os.path.abspath(os.path.join(current_dir, os.pardir))"
   ]
  },
  {
   "cell_type": "code",
   "execution_count": 29,
   "metadata": {},
   "outputs": [
    {
     "data": {
      "text/plain": [
       "'/home/padialjr/ALEXIS_pipeline'"
      ]
     },
     "execution_count": 29,
     "metadata": {},
     "output_type": "execute_result"
    }
   ],
   "source": [
    "parent_dir"
   ]
  },
  {
   "cell_type": "code",
   "execution_count": 30,
   "metadata": {},
   "outputs": [
    {
     "data": {
      "text/plain": [
       "'/home/padialjr/ALEXIS_pipeline/jupyter_notebooks'"
      ]
     },
     "execution_count": 30,
     "metadata": {},
     "output_type": "execute_result"
    }
   ],
   "source": [
    "current_dir"
   ]
  },
  {
   "cell_type": "code",
   "execution_count": 32,
   "metadata": {},
   "outputs": [
    {
     "data": {
      "text/plain": [
       "'/home/padialjr/ALEXIS_pipeline/timestamp_xrayDB.db'"
      ]
     },
     "execution_count": 32,
     "metadata": {},
     "output_type": "execute_result"
    }
   ],
   "source": [
    "DATA_PRODUCT_DIR = os.path.join(parent_dir,'timestamp_xrayDB.db')\n",
    "DATA_PRODUCT_DIR"
   ]
  },
  {
   "cell_type": "code",
   "execution_count": null,
   "metadata": {},
   "outputs": [],
   "source": []
  }
 ],
 "metadata": {
  "kernelspec": {
   "display_name": "aiadl_2",
   "language": "python",
   "name": "python3"
  },
  "language_info": {
   "codemirror_mode": {
    "name": "ipython",
    "version": 3
   },
   "file_extension": ".py",
   "mimetype": "text/x-python",
   "name": "python",
   "nbconvert_exporter": "python",
   "pygments_lexer": "ipython3",
   "version": "3.8.5"
  }
 },
 "nbformat": 4,
 "nbformat_minor": 2
}
