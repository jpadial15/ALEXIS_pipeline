{
 "cells": [
  {
   "cell_type": "code",
   "execution_count": 1,
   "metadata": {},
   "outputs": [],
   "source": [
    "import sys  \n",
    "sys.path.insert(1, '..')\n",
    "sys.path.insert(2, '../modules/')\n"
   ]
  },
  {
   "cell_type": "code",
   "execution_count": 2,
   "metadata": {},
   "outputs": [],
   "source": [
    "from datetime import timedelta, date\n",
    "import pickle\n",
    "from ruffus import *\n",
    "import os\n",
    "import xarray as xr\n",
    "import pandas as pd\n",
    "import numpy as np\n",
    "import re\n",
    "import dataconfig"
   ]
  },
  {
   "cell_type": "code",
   "execution_count": 3,
   "metadata": {},
   "outputs": [],
   "source": [
    "WORKING_DIR = dataconfig.DATA_DIR_GOES_FLUX\n",
    "\n",
    "DATA_PRODUCT_DIR = dataconfig.DATA_DIR_PRODUCTS\n",
    "\n",
    "tw = lambda x: os.path.join(WORKING_DIR, x)\n",
    "\n",
    "\n",
    "\n",
    "###### REVIEW AND OPTIMIZE Jan17,2020 ###########\n",
    "\n",
    "\n",
    "# some dictionaries we'll use sometimes\n",
    "instruments = ['goes13', 'goes14', 'goes15']\n",
    "\n",
    "inst_dict = {'goes13': 'g13', 'goes14': 'g14', 'goes15': 'g15'}\n",
    "\n",
    "ftp_prename = 'ftp://satdat.ngdc.noaa.gov/sem/goes/data/science/xrs'\n",
    "\n",
    "\n",
    "#### set the date limits of the data you want to download\n",
    "\n",
    "# start_download_from = input('Insert date and time you would like your XRay Flux Data to START from. For example: YYYY-MM-DD HH:MM:SS ' )\n",
    "\n",
    "# end_download_at = input('Insert date and time you would like your XRay Flux Data to END at. For example: YYYY-MM-DD HH:MM:SS ' )\n",
    "\n",
    "start_download_from = '2010-05-01T00:00:00'\n",
    "end_download_at = '2010-05-02T00:00:00'\n",
    "\n",
    "START_DATE_TIME = pd.Timestamp(start_download_from, tz = 'utc')\n",
    "\n",
    "END_DATE_TIME = pd.Timestamp(end_download_at, tz = 'utc')\n",
    "\n",
    "\n",
    "def daterange(date1, date2):\n",
    "    for n in range(int ((date2 - date1).days)+1):\n",
    "        yield date1 + timedelta(n)\n",
    "\n",
    "\n",
    "all_dates_list = []\n",
    "\n",
    "# start_dt = date(2010, 5, 1)\n",
    "# end_dt = date(2020,3,5)\n",
    "# for dt in daterange(start_dt, end_dt):\n",
    "#     # all_dates_list.append(dt.strftime(\"%Y%m%d\"))\n",
    "#     all_dates_list.append(dt)\n",
    "\n",
    "\n",
    "for dt in daterange(START_DATE_TIME, END_DATE_TIME):\n",
    "    # all_dates_list.append(dt.strftime(\"%Y%m%d\"))\n",
    "    all_dates_list.append(dt)\n",
    "\n",
    "\n",
    "ftp_name_dict = []\n",
    "\n",
    "for full_instrument_name in instruments:\n",
    "\n",
    "    for this_date in all_dates_list:\n",
    "\n",
    "        specific_date_str = this_date.strftime(\"%Y%m%d\")\n",
    "\n",
    "        year, month, day = this_date.strftime('%Y'), this_date.strftime('%m'), this_date.strftime('%d')\n",
    "\n",
    "        specific_file_name = f'sci_gxrs-l2-irrad_{inst_dict[full_instrument_name]}_d{specific_date_str}_v0-0-0.nc'\n",
    "\n",
    "        ftp_name = f'{ftp_prename}/{full_instrument_name}/gxrs-l2-irrad_science/{year}/{month}/{specific_file_name}'\n",
    "\n",
    "\n",
    "        outfile_str = tw(f'{year}-{month}-{day}_{full_instrument_name}_irrad.nc')\n",
    "\n",
    "        ftp_name_dict.append({'download_file': ftp_name, 'out_name': outfile_str})"
   ]
  },
  {
   "cell_type": "code",
   "execution_count": 4,
   "metadata": {},
   "outputs": [],
   "source": [
    "queries = ftp_name_dict[0]\n"
   ]
  },
  {
   "cell_type": "code",
   "execution_count": 10,
   "metadata": {},
   "outputs": [
    {
     "name": "stdout",
     "output_type": "stream",
     "text": [
      "wget -e robots=off --recursive --no-parent -A --directory-prefix /mnt/e/image_data/xrs_data_flux --no-directories --verbose False ftp://satdat.ngdc.noaa.gov/sem/goes/data/science/xrs/goes13/gxrs-l2-irrad_science/2010/05/sci_gxrs-l2-irrad_g13_d20100501_v0-0-0.nc -O /mnt/e/image_data/xrs_data_flux/2010-05-01_goes13_irrad.nc\n"
     ]
    }
   ],
   "source": [
    "ftp_query_name = queries['download_file']\n",
    "\n",
    "    ############### EDIT ###################\n",
    "\n",
    "        # Include \"outname\" in oufile dict in order to offer continuity to the pipeline\n",
    "\n",
    "# ftp_query_name = 'https://ncei.noaa.gov/data/goes-space-environment-monitor/access/science/xrs/goes14/gxrs-l2-irrad_science/2010/05/sci_gxrs-l2-irrad_g14_d20100501_v0-0-0.nc'\n",
    "outfile_name = queries['out_name']\n",
    "\n",
    "# print(outfile)\n",
    "\n",
    "download_str = f'wget -e robots=off --recursive --no-parent -A --directory-prefix {WORKING_DIR} --no-directories --verbose False {ftp_query_name} -O {outfile_name}' \n",
    "\n",
    "# os.system(download_str)\n",
    "print(download_str)"
   ]
  },
  {
   "cell_type": "code",
   "execution_count": null,
   "metadata": {},
   "outputs": [],
   "source": []
  }
 ],
 "metadata": {
  "kernelspec": {
   "display_name": "aiadl_2",
   "language": "python",
   "name": "python3"
  },
  "language_info": {
   "codemirror_mode": {
    "name": "ipython",
    "version": 3
   },
   "file_extension": ".py",
   "mimetype": "text/x-python",
   "name": "python",
   "nbconvert_exporter": "python",
   "pygments_lexer": "ipython3",
   "version": "3.8.5"
  }
 },
 "nbformat": 4,
 "nbformat_minor": 2
}
